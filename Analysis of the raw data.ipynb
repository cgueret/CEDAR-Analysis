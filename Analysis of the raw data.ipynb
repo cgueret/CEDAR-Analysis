{
 "metadata": {
  "name": ""
 },
 "nbformat": 3,
 "nbformat_minor": 0,
 "worksheets": [
  {
   "cells": [
    {
     "cell_type": "heading",
     "level": 1,
     "metadata": {},
     "source": [
      "Introduction"
     ]
    },
    {
     "cell_type": "markdown",
     "metadata": {},
     "source": [
      "This first part contains many uninteresting things... we first load plenty of libraries we will use later"
     ]
    },
    {
     "cell_type": "code",
     "collapsed": false,
     "input": [
      "from SPARQLWrapper import SPARQLWrapper, JSON\n",
      "from rdflib import ConjunctiveGraph, Namespace, Literal, RDF, RDFS, BNode, URIRef, XSD, Variable\n",
      "import operator\n",
      "import numpy as np\n",
      "import matplotlib.pyplot as plt\n",
      "import urllib2, StringIO, csv\n",
      "import re\n",
      "%matplotlib inline\n",
      "NG_TEMPLATE = 'http://lod.cedar-project.nl/resource/v2/TABLE'\n",
      "END_POINT = 'http://lod.cedar-project.nl:8080/sparql/cedar'"
     ],
     "language": "python",
     "metadata": {},
     "outputs": [],
     "prompt_number": 8
    },
    {
     "cell_type": "markdown",
     "metadata": {},
     "source": [
      "This function will be used to clean text"
     ]
    },
    {
     "cell_type": "code",
     "collapsed": false,
     "input": [
      "def clean_string(text):\n",
      "    # Remove some extra things\n",
      "    text_clean = text.replace('.', '').replace('_', ' ').lower()\n",
      "    # Shrink spaces\n",
      "    text_clean = re.sub(r'\\s+', ' ', text_clean)\n",
      "    # Remove lead and trailing whitespaces\n",
      "    text_clean = text_clean.strip()\n",
      "    return text_clean"
     ],
     "language": "python",
     "metadata": {},
     "outputs": [],
     "prompt_number": 9
    },
    {
     "cell_type": "markdown",
     "metadata": {},
     "source": [
      "We then get the list of tables"
     ]
    },
    {
     "cell_type": "code",
     "collapsed": false,
     "input": [
      "url = 'https://raw.githubusercontent.com/cgueret/Harmonize/master/tables.txt'\n",
      "tables = [table.strip() for table in StringIO.StringIO(urllib2.urlopen(url).read())]"
     ],
     "language": "python",
     "metadata": {},
     "outputs": [],
     "prompt_number": 10
    },
    {
     "cell_type": "heading",
     "level": 1,
     "metadata": {},
     "source": [
      "Some queries over the column headers"
     ]
    },
    {
     "cell_type": "markdown",
     "metadata": {},
     "source": [
      "We first get the raw data out of the SPARQL end point (this takes a while !)"
     ]
    },
    {
     "cell_type": "code",
     "collapsed": false,
     "input": [
      "headers = {}\n",
      "for table in tables:\n",
      "    named_graph = NG_TEMPLATE.replace('TABLE', table) \n",
      "    sparql = SPARQLWrapper(END_POINT)\n",
      "    query = \"\"\"\n",
      "    prefix tablink: <http://example.org/ns#>\n",
      "    prefix skos: <http://www.w3.org/2004/02/skos/core#>\n",
      "    select distinct ?header ?label ?parent from <GRAPH> where {\n",
      "    ?header a tablink:ColumnHeader;\n",
      "            tablink:subColHeaderOf ?parent;\n",
      "            skos:prefLabel ?label.\n",
      "    } \n",
      "    \"\"\".replace('GRAPH',named_graph)\n",
      "    sparql.setQuery(query)\n",
      "    sparql.setReturnFormat(JSON)\n",
      "    results = sparql.query().convert()\n",
      "    table_headers = {}\n",
      "    for result in results[\"results\"][\"bindings\"]:\n",
      "        h = URIRef(result['header']['value'])\n",
      "        p = URIRef(result['parent']['value'])\n",
      "        l = Literal(result['label']['value'])\n",
      "        table_headers[h] = {'parent':p, 'label':l}\n",
      "    headers[table] = table_headers"
     ],
     "language": "python",
     "metadata": {},
     "outputs": [],
     "prompt_number": 13
    },
    {
     "cell_type": "heading",
     "level": 2,
     "metadata": {},
     "source": [
      "Which keywords are most commonly found as column header ?"
     ]
    },
    {
     "cell_type": "markdown",
     "metadata": {},
     "source": [
      "We first generate the table"
     ]
    },
    {
     "cell_type": "code",
     "collapsed": false,
     "input": [
      "keyword_count = {}\n",
      "for (table, table_headers) in headers.iteritems():\n",
      "    for (header, data) in table_headers.iteritems():\n",
      "        clean_label = clean_string(data['label'])\n",
      "        for label_part in clean_label.split(' '):\n",
      "            if label_part not in keyword_count:\n",
      "                keyword_count[label_part] = 0\n",
      "            keyword_count[label_part] = keyword_count[label_part] + 1\n",
      "sorted_keyword_count = sorted(keyword_count.iteritems(), key=operator.itemgetter(1), reverse=True)"
     ],
     "language": "python",
     "metadata": {},
     "outputs": [],
     "prompt_number": 17
    },
    {
     "cell_type": "markdown",
     "metadata": {},
     "source": [
      "We print the top 15 results"
     ]
    },
    {
     "cell_type": "code",
     "collapsed": false,
     "input": [
      "for (k,v) in sorted_keyword_count[:15]:\n",
      "        print '{0:<8} => {1}'.format(v, k)"
     ],
     "language": "python",
     "metadata": {},
     "outputs": [
      {
       "output_type": "stream",
       "stream": "stdout",
       "text": [
        "9642     => m\n",
        "9509     => v\n",
        "4775     => totaal\n",
        "4673     => gehuwd\n",
        "3630     => in\n",
        "2841     => vrouwen\n",
        "2720     => mannen\n",
        "2565     => en\n",
        "2545     => ongehuwd\n",
        "2320     => geweest\n",
        "1825     => der\n",
        "1768     => van\n",
        "1529     => de\n",
        "1389     => o\n",
        "1332     => provincie\n"
       ]
      }
     ],
     "prompt_number": 18
    },
    {
     "cell_type": "markdown",
     "metadata": {},
     "source": [
      "We can also plot the complete data to see how the frequency evolves"
     ]
    },
    {
     "cell_type": "code",
     "collapsed": false,
     "input": [
      "values = [v for (k,v) in sorted_keyword_count]\n",
      "plt.semilogy(range(len(values)), values, 'ro')\n",
      "plt.axis([0, len(values), 0, values[0]])\n",
      "plt.xlabel('Index of the dimension')\n",
      "plt.ylabel('Frequency')\n",
      "plt.show()"
     ],
     "language": "python",
     "metadata": {},
     "outputs": [
      {
       "metadata": {},
       "output_type": "display_data",
       "png": "[encoded data removed]",
       "text": [
        "<matplotlib.figure.Figure at 0xc21fe50>"
       ]
      }
     ],
     "prompt_number": 19
    },
    {
     "cell_type": "code",
     "collapsed": false,
     "input": [],
     "language": "python",
     "metadata": {},
     "outputs": []
    }
   ],
   "metadata": {}
  }
 ]
}