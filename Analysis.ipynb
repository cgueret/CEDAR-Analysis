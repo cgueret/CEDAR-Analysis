{
 "metadata": {
  "name": ""
 },
 "nbformat": 3,
 "nbformat_minor": 0,
 "worksheets": [
  {
   "cells": [
    {
     "cell_type": "markdown",
     "metadata": {},
     "source": [
      "# Get all the data"
     ]
    },
    {
     "cell_type": "code",
     "collapsed": false,
     "input": [
      "from SPARQLWrapper import SPARQLWrapper, JSON\n",
      "import operator\n",
      "import numpy as np\n",
      "import matplotlib.pyplot as plt\n",
      "%matplotlib inline"
     ],
     "language": "python",
     "metadata": {},
     "outputs": [],
     "prompt_number": 48
    },
    {
     "cell_type": "code",
     "collapsed": false,
     "input": [
      "named_graphs = [named_graph.strip() for named_graph in open('named_graphs.txt')]"
     ],
     "language": "python",
     "metadata": {},
     "outputs": [],
     "prompt_number": 38
    },
    {
     "cell_type": "code",
     "collapsed": false,
     "input": [
      "def process_graph(graph, dimensions):\n",
      "    sparql = SPARQLWrapper(\"http://lod.cedar-project.nl:8080/sparql/cedar\")\n",
      "    query = \"\"\"\n",
      "    select distinct (count(?dim) as ?total) ?label from <GRAPH> where {\n",
      "    ?header <http://www.data2semantics.org/core/isDimension> ?dim.\n",
      "    ?dim a <http://www.data2semantics.org/core/Dimension>.\n",
      "    ?dim <http://www.w3.org/2004/02/skos/core#prefLabel> ?label.\n",
      "    } \n",
      "    group by ?label\n",
      "    order by desc(?total)\n",
      "    \"\"\".replace('GRAPH',graph)\n",
      "    sparql.setQuery(query)\n",
      "    sparql.setReturnFormat(JSON)\n",
      "    results = sparql.query().convert()\n",
      "    for result in results[\"results\"][\"bindings\"]:\n",
      "        total=int(result['total']['value'])\n",
      "        dimension=result['label']['value']\n",
      "        if dimension not in dimensions:\n",
      "            dimensions[dimension] = 0\n",
      "        dimensions[dimension] = dimensions[dimension] + total\n",
      "    \n"
     ],
     "language": "python",
     "metadata": {},
     "outputs": [],
     "prompt_number": 39
    },
    {
     "cell_type": "code",
     "collapsed": false,
     "input": [
      "dimensions_count = {}\n",
      "# test graph \"http://lod.cedar-project.nl/resource/VT_1859_01_H1\"\n",
      "for named_graph in named_graphs:\n",
      "    process_graph(named_graph, dimensions_count)\n"
     ],
     "language": "python",
     "metadata": {},
     "outputs": [],
     "prompt_number": 40
    },
    {
     "cell_type": "markdown",
     "metadata": {},
     "source": [
      "# Show the top 15 dimensions with their frequency"
     ]
    },
    {
     "cell_type": "code",
     "collapsed": false,
     "input": [
      "sorted_dimensions_count = sorted(dimensions_count.iteritems(), key=operator.itemgetter(1), reverse=True)\n",
      "for (k,v) in sorted_dimensions_count[:15]:\n",
      "    try:\n",
      "        print '{0:<8} => {1}'.format(v, k)\n",
      "    except UnicodeEncodeError:\n",
      "        pass"
     ],
     "language": "python",
     "metadata": {},
     "outputs": [
      {
       "output_type": "stream",
       "stream": "stdout",
       "text": [
        "81092    => D\n",
        "55980    => A\n",
        "53529    => C\n",
        "34607    => B\n",
        "25398    => Geheele Provincie\n",
        "18080    => C \n",
        "16208    => Totaal\n",
        "15699    => A \n",
        "12074    => XVII. Fabricage van voedings- en genotmiddelen\n",
        "11750    => XXI. Verkeerswezen\n",
        "9738     => XX. Warenhandel. 1)\n",
        "8456     => Kom\n",
        "8340     => Huizen\n",
        "8174     => Buiten kom\n",
        "6886     => M\n"
       ]
      }
     ],
     "prompt_number": 43
    },
    {
     "cell_type": "markdown",
     "metadata": {},
     "source": [
      "# Plot of all dimensions against their frequency"
     ]
    },
    {
     "cell_type": "code",
     "collapsed": false,
     "input": [
      "values = [v for (k,v) in sorted_dimensions_count]\n",
      "plt.semilogy(range(len(values)), values, 'ro')\n",
      "plt.axis([0, len(values), 0, values[0]])\n",
      "plt.xlabel('Index of the dimension')\n",
      "plt.ylabel('Frequency')\n",
      "plt.show()"
     ],
     "language": "python",
     "metadata": {},
     "outputs": [
      {
       "metadata": {},
       "output_type": "display_data",
       "png": "[encoded data removed]",
       "text": [
        "<matplotlib.figure.Figure at 0x64f84d0>"
       ]
      }
     ],
     "prompt_number": 56
    },
    {
     "cell_type": "code",
     "collapsed": false,
     "input": [],
     "language": "python",
     "metadata": {},
     "outputs": []
    }
   ],
   "metadata": {}
  }
 ]
}