{
 "metadata": {
  "name": ""
 },
 "nbformat": 3,
 "nbformat_minor": 0,
 "worksheets": [
  {
   "cells": [
    {
     "cell_type": "code",
     "collapsed": false,
     "input": [
      "from SPARQLWrapper import SPARQLWrapper, JSON\n",
      "from rdflib import ConjunctiveGraph, Namespace, Literal, RDF, RDFS, BNode, URIRef, XSD, Variable\n",
      "import operator\n",
      "import numpy as np\n",
      "import networkx as nx\n",
      "import matplotlib.pyplot as plt\n",
      "import urllib2, StringIO, csv\n",
      "import re\n",
      "%matplotlib inline\n",
      "NG_TEMPLATE = 'http://lod.cedar-project.nl/resource/r1/CUBE'\n",
      "END_POINT = 'http://lod.cedar-project.nl:8080/sparql/cedar'"
     ],
     "language": "python",
     "metadata": {},
     "outputs": [],
     "prompt_number": 9
    },
    {
     "cell_type": "code",
     "collapsed": false,
     "input": [
      "url = 'https://raw.githubusercontent.com/cgueret/Harmonize/master/cubes.txt'\n",
      "cubes = [cube.strip() for cube in StringIO.StringIO(urllib2.urlopen(url).read())]"
     ],
     "language": "python",
     "metadata": {},
     "outputs": [],
     "prompt_number": 10
    },
    {
     "cell_type": "heading",
     "level": 1,
     "metadata": {},
     "source": [
      "What is the evolution of the number of teachers over time ?"
     ]
    },
    {
     "cell_type": "markdown",
     "metadata": {},
     "source": [
      "Teachers have the HISCO code [13000](\n",
      "http://hisco.antenna.nl/list_micro.phtml?keywords=13000&keywords_qt=lstrict), this question is a simplified version of that found on slide 30 of [this presentation](http://www.slideshare.net/slideshow/embed_code/17181229?hostedIn=slideshare&referer=http://www.slideshare.net/AndreaScharnhorst#)\n",
      "            "
     ]
    },
    {
     "cell_type": "code",
     "collapsed": false,
     "input": [
      "data_years=[]\n",
      "data_count=[]\n",
      "for cube in cubes:\n",
      "    (cube_type, cube_year) = cube.split('-')\n",
      "    if cube_type != 'BRT':\n",
      "        continue\n",
      "    data_years.append(int(cube_year))\n",
      "    named_graph = NG_TEMPLATE.replace('CUBE', cube)\n",
      "    sparql = SPARQLWrapper(END_POINT)\n",
      "    query = \"\"\"\n",
      "    prefix cedar: <http://cedar.example.org/ns#>\n",
      "    prefix qb: <http://purl.org/linked-data/cube#>\n",
      "    \n",
      "    select (sum(?s) as ?total) from <GRAPH> where {\n",
      "    ?o a qb:Observation.\n",
      "    ?o cedar:occupation cedar:hisco-13000.\n",
      "    ?o cedar:populationSize ?s.\n",
      "    }\n",
      "    \"\"\".replace('GRAPH',named_graph)\n",
      "    sparql.setQuery(query)\n",
      "    sparql.setReturnFormat(JSON)\n",
      "    result = sparql.query().convert()[\"results\"][\"bindings\"][0]\n",
      "    total = 0\n",
      "    if 'total' in result:\n",
      "        total = int(result['total']['value'])\n",
      "    data_count.append(total)\n",
      "    "
     ],
     "language": "python",
     "metadata": {},
     "outputs": [],
     "prompt_number": 28
    },
    {
     "cell_type": "code",
     "collapsed": false,
     "input": [
      "print data_years, data_count"
     ],
     "language": "python",
     "metadata": {},
     "outputs": [
      {
       "output_type": "stream",
       "stream": "stdout",
       "text": [
        "[1889, 1899, 1909, 1920, 1930, 1947] [17653, 9170, 267, 0, 0, 0]\n"
       ]
      }
     ],
     "prompt_number": 29
    },
    {
     "cell_type": "code",
     "collapsed": false,
     "input": [
      "plt.plot(data_years, data_count, alpha=0.5)\n",
      "plt.scatter(data_years, data_count, alpha=0.5)\n",
      "plt.show()"
     ],
     "language": "python",
     "metadata": {},
     "outputs": [
      {
       "metadata": {},
       "output_type": "display_data",
       "png": "[encoded data removed]",
       "text": [
        "<matplotlib.figure.Figure at 0x24d3910>"
       ]
      }
     ],
     "prompt_number": 31
    },
    {
     "cell_type": "heading",
     "level": 1,
     "metadata": {},
     "source": [
      "What is the evolution of the number of married women ?"
     ]
    },
    {
     "cell_type": "code",
     "collapsed": false,
     "input": [
      "data_years=[]\n",
      "data_count=[]\n",
      "for cube in cubes:\n",
      "    (cube_type, cube_year) = cube.split('-')\n",
      "    if cube_type != 'VT':\n",
      "        continue\n",
      "    data_years.append(int(cube_year))\n",
      "    named_graph = NG_TEMPLATE.replace('CUBE', cube)\n",
      "    sparql = SPARQLWrapper(END_POINT)\n",
      "    query = \"\"\"\n",
      "    prefix cedar: <http://cedar.example.org/ns#>\n",
      "    prefix qb: <http://purl.org/linked-data/cube#>\n",
      "    prefix sdmx-dimension: <http://purl.org/linked-data/sdmx/2009/dimension#>\n",
      "    prefix sdmx-code: <http://purl.org/linked-data/sdmx/2009/code#>\n",
      "    \n",
      "    select (sum(?s) as ?total) from <GRAPH> where {\n",
      "    ?o a qb:Observation.\n",
      "    ?o cedar:maritalStatus cedar:marital-Married.\n",
      "    ?o sdmx-dimension:sex sdmx-code:sex-V.\n",
      "    ?o cedar:populationSize ?s.\n",
      "    }\n",
      "    \"\"\".replace('GRAPH',named_graph)\n",
      "    sparql.setQuery(query)\n",
      "    sparql.setReturnFormat(JSON)\n",
      "    result = sparql.query().convert()[\"results\"][\"bindings\"][0]\n",
      "    total = 0\n",
      "    if 'total' in result:\n",
      "        total = int(result['total']['value'])\n",
      "    data_count.append(total)"
     ],
     "language": "python",
     "metadata": {},
     "outputs": [],
     "prompt_number": 32
    },
    {
     "cell_type": "code",
     "collapsed": false,
     "input": [
      "print data_years, data_count"
     ],
     "language": "python",
     "metadata": {},
     "outputs": [
      {
       "output_type": "stream",
       "stream": "stdout",
       "text": [
        "[1795, 1830, 1840, 1849, 1859, 1869, 1879, 1889, 1899, 1909, 1920, 1930, 1947, 1971] [0, 3782337, 3630140, 5070644, 7513441, 6504906, 3541892, 1263520, 14269943, 10292988, 12812929, 22087751, 12975842, 0]\n"
       ]
      }
     ],
     "prompt_number": 36
    },
    {
     "cell_type": "code",
     "collapsed": false,
     "input": [
      "plt.plot(data_years, data_count, alpha=0.5)\n",
      "plt.scatter(data_years, data_count, alpha=0.5)\n",
      "plt.show()"
     ],
     "language": "python",
     "metadata": {},
     "outputs": [
      {
       "metadata": {},
       "output_type": "display_data",
       "png": "[encoded data removed]",
       "text": [
        "<matplotlib.figure.Figure at 0x247abd0>"
       ]
      }
     ],
     "prompt_number": 34
    },
    {
     "cell_type": "heading",
     "level": 1,
     "metadata": {},
     "source": [
      "What is the evolution of the population of Amsterdam ?"
     ]
    },
    {
     "cell_type": "code",
     "collapsed": false,
     "input": [
      "data_years=[]\n",
      "data_count=[]\n",
      "for cube in cubes:\n",
      "    (cube_type, cube_year) = cube.split('-')\n",
      "    if cube_type != 'VT':\n",
      "        continue\n",
      "    data_years.append(int(cube_year))\n",
      "    named_graph = NG_TEMPLATE.replace('CUBE', cube)\n",
      "    sparql = SPARQLWrapper(END_POINT)\n",
      "    query = \"\"\"\n",
      "    prefix cedar: <http://cedar.example.org/ns#>\n",
      "    prefix qb: <http://purl.org/linked-data/cube#>\n",
      "    prefix sdmx-dimension: <http://purl.org/linked-data/sdmx/2009/dimension#>\n",
      "    prefix sdmx-code: <http://purl.org/linked-data/sdmx/2009/code#>\n",
      "    \n",
      "    select (sum(?s) as ?total) from <GRAPH> where {\n",
      "    ?o a qb:Observation.\n",
      "    ?o cedar:city cedar:ac-11150.\n",
      "    ?o cedar:populationSize ?s.\n",
      "    }\n",
      "    \"\"\".replace('GRAPH',named_graph)\n",
      "    sparql.setQuery(query)\n",
      "    sparql.setReturnFormat(JSON)\n",
      "    result = sparql.query().convert()[\"results\"][\"bindings\"][0]\n",
      "    total = 0\n",
      "    if 'total' in result:\n",
      "        total = int(result['total']['value'])\n",
      "    data_count.append(total)"
     ],
     "language": "python",
     "metadata": {},
     "outputs": [],
     "prompt_number": 37
    },
    {
     "cell_type": "code",
     "collapsed": false,
     "input": [
      "print data_years, data_count"
     ],
     "language": "python",
     "metadata": {},
     "outputs": [
      {
       "output_type": "stream",
       "stream": "stdout",
       "text": [
        "[1795, 1830, 1840, 1849, 1859, 1869, 1879, 1889, 1899, 1909, 1920, 1930, 1947, 1971] [2389519, 606525, 0, 1470085, 8212669, 5137603, 4978346, 6423682, 11996651, 7260189, 16510509, 23924726, 2186887, 7358562]\n"
       ]
      }
     ],
     "prompt_number": 38
    },
    {
     "cell_type": "code",
     "collapsed": false,
     "input": [
      "plt.plot(data_years, data_count, alpha=0.5)\n",
      "plt.scatter(data_years, data_count, alpha=0.5)\n",
      "plt.show()"
     ],
     "language": "python",
     "metadata": {},
     "outputs": [
      {
       "metadata": {},
       "output_type": "display_data",
       "png": "[encoded data removed]",
       "text": [
        "<matplotlib.figure.Figure at 0x28e0e90>"
       ]
      }
     ],
     "prompt_number": 40
    },
    {
     "cell_type": "code",
     "collapsed": false,
     "input": [],
     "language": "python",
     "metadata": {},
     "outputs": []
    }
   ],
   "metadata": {}
  }
 ]
}