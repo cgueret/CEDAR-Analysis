{
 "metadata": {
  "name": ""
 },
 "nbformat": 3,
 "nbformat_minor": 0,
 "worksheets": [
  {
   "cells": [
    {
     "cell_type": "heading",
     "level": 1,
     "metadata": {},
     "source": [
      "Load all the codes"
     ]
    },
    {
     "cell_type": "code",
     "collapsed": false,
     "input": [
      "from SPARQLWrapper import SPARQLWrapper, JSON\n",
      "from rdflib import ConjunctiveGraph, Namespace, Literal, RDF, RDFS, BNode, URIRef, XSD, Variable\n",
      "import operator\n",
      "import numpy as np\n",
      "import networkx as nx\n",
      "import matplotlib.pyplot as plt\n",
      "import urllib2, StringIO, csv\n",
      "import re\n",
      "%matplotlib inline\n",
      "NG_TEMPLATE = 'http://lod.cedar-project.nl/resource/r1/CUBE'\n",
      "END_POINT = 'http://lod.cedar-project.nl:8080/sparql/cedar'\n",
      "# Load cube names\n",
      "url = 'https://raw.githubusercontent.com/cgueret/Harmonize/master/cubes.txt'\n",
      "cubes = [cube.strip() for cube in StringIO.StringIO(urllib2.urlopen(url).read())]\n",
      "# Load list of occupations\n",
      "url = 'https://raw.githubusercontent.com/cgueret/Harmonize/master/codes/occupation.csv'\n",
      "reader = csv.reader(StringIO.StringIO(urllib2.urlopen(url).read()))\n",
      "occupation_codes = set()\n",
      "header_row = True\n",
      "for row in reader:\n",
      "    # Skip the header\n",
      "    if header_row:\n",
      "        header_row = False\n",
      "        continue\n",
      "    # Skip empty lines\n",
      "    if len(row) != 2:\n",
      "        continue\n",
      "    try:\n",
      "        occupation_codes.add(str(row[1].replace('http://cedar.example.org/ns#hisco-','')))\n",
      "    except:\n",
      "        pass\n",
      "print \"Total number of codes %d \" % len(occupation_codes)\n",
      "# Load the list of target codes\n",
      "target_codes = set()\n",
      "url = 'https://raw.githubusercontent.com/cgueret/CEDAR-Analysis/master/modern_hisco_2.txt'\n",
      "lines = [line.strip() for line in StringIO.StringIO(urllib2.urlopen(url).read())]\n",
      "for line in lines:\n",
      "    if line.startswith('HISCO'):\n",
      "        continue\n",
      "    if len(line) < 2:\n",
      "        continue\n",
      "    target = str(line.split(' ')[0])\n",
      "    for occupation in occupation_codes:\n",
      "        if occupation.startswith(target):\n",
      "            target_codes.add(occupation)\n",
      "print \"Target codes %d \" % len(target_codes)"
     ],
     "language": "python",
     "metadata": {},
     "outputs": [
      {
       "output_type": "stream",
       "stream": "stdout",
       "text": [
        "Total number of codes 1014 \n",
        "Target codes 220 "
       ]
      },
      {
       "output_type": "stream",
       "stream": "stdout",
       "text": [
        "\n"
       ]
      }
     ],
     "prompt_number": 24
    },
    {
     "cell_type": "heading",
     "level": 1,
     "metadata": {},
     "source": [
      "Get the raw data"
     ]
    },
    {
     "cell_type": "code",
     "collapsed": false,
     "input": [
      "observations = {}\n",
      "for code in target_codes:\n",
      "    for cube in cubes:\n",
      "        named_graph = NG_TEMPLATE.replace('CUBE', cube)\n",
      "        sparql = SPARQLWrapper(END_POINT)\n",
      "        query = \"\"\"\n",
      "        prefix cedar: <http://cedar.example.org/ns#>\n",
      "        prefix qb: <http://purl.org/linked-data/cube#>\n",
      "        \n",
      "        select (sum(?s) as ?total) ?year from <GRAPH> where {\n",
      "        ?o a qb:Observation.\n",
      "        ?o cedar:occupation cedar:hisco-CODE.\n",
      "        ?o cedar:populationSize ?s.\n",
      "        ?o qb:dataSet ?ds.\n",
      "        ?ds a qb:DataSet.\n",
      "        ?ds cedar:censusYear ?year.\n",
      "        }\n",
      "        \"\"\".replace('GRAPH',named_graph).replace('CODE', code)\n",
      "        sparql.setQuery(query)\n",
      "        sparql.setReturnFormat(JSON)\n",
      "        results = sparql.query().convert()[\"results\"][\"bindings\"]\n",
      "        for result in results:\n",
      "            if 'total' in result and 'year' in result:\n",
      "                total = int(result['total']['value'])\n",
      "                year = str(result['year']['value'])\n",
      "                observations.setdefault(year, {})\n",
      "                observations[year].setdefault(code, 0)\n",
      "                observations[year][code] += total\n",
      "print observations"
     ],
     "language": "python",
     "metadata": {},
     "outputs": [
      {
       "output_type": "stream",
       "stream": "stdout",
       "text": [
        "{'1859': {'37030': 11670, '92290': 143, '75465': 1, '74220': 1723, '83320': 926, '87105': 6755, '92250': 1, '38040': 1, '74470': 1011, '75145': 3, '74100': 222, '02230': 1943, '73240': 188, '93960': 2339, '03510': 1, '96930': 122}, '1849': {'74990': 2457, '36000': 7074, '37030': 17427, '92290': 300, '74220': 2880, '83320': 744, '87105': 13596, '87340': 600, '74470': 2451, '96930': 300, '74100': 966, '02230': 3854, '73240': 675, '93960': 2922, '74290': 75, '03510': 4964, '87330': 29151, '75145': 10658}, '1920': {'84100': 28073, '98500': 28523, '85510': 26758, '98320': 28214, '98330': 26908, '87350': 5524, '87120': 13846, '16310': 1160, '87330': 10962}, '1930': {'74990': 67, '56030': 79, '96910': 48, '90100': 27, '98500': 2153, '98220': 152, '87190': 9, '84990': 48, '97390': 22, '87120': 11, '16310': 181, '85920': 6, '96930': 41, '92730': 41, '37090': 96, '74140': 8, '84410': 15, '95960': 13, '83520': 417, '56060': 34, '98320': 157, '32220': 70, '75465': 19, '84190': 70, '85345': 99, '37040': 228, '36040': 76, '92220': 27, '98300': 60, '87210': 478, '95690': 27, '81290': 10, '87310': 70, '98550': 80, '87350': 129, '97440': 55, '92130': 55, '96940': 39, '38040': 241, '75145': 41, '87340': 165, '87330': 367, '04125': 28, '37030': 18, '92225': 14, '92330': 9, '84100': 5001, '38000': 117, '92250': 45, '85510': 133, '98330': 96, '36000': 119, '83450': 99, '90200': 75}, '1899': {'74990': 3108, '92290': 267, '96910': 18, '90100': 327, '98500': 27839, '79630': 780, '84910': 18, '83465': 36, '84990': 897, '74241': 72, '74470': 2049, '87120': 45, '87260': 291, '83410': 3, '96930': 18, '84975': 99, '98590': 9, '74140': 72, '74220': 48, '74490': 30, '87105': 18, '92530': 513, '83520': 18, '97355': 7980, '87350': 1746, '96100': 176, '74925': 2760, '75465': 1473, '71130': 6, '37040': 1395, '85110': 588, '98420': 9, '84320': 15, '83360': 225, '84980': 12, '83320': 3525, '84190': 12, '85600': 264, '84390': 582, '75145': 6, '93960': 2805, '87340': 6, '87330': 954, '77930': 2451, '74100': 108, '84150': 111, '84100': 32399, '74130': 9, '84105': 30, '38000': 3, '92250': 108, '85510': 63, '83530': 6, '98330': 189, '36000': 17211, '83490': 6, '83450': 18, '87110': 129, '90200': 69}, '1889': {'74990': 8626, '92290': 317, '85490': 69, '98500': 37063, '74100': 849, '98220': 12, '84990': 173, '74241': 327, '74470': 1908, '84150': 513, '87120': 30, '16310': 483, '03510': 248, '96930': 219, '90100': 482, '84975': 167, '37090': 511, '74220': 2390, '87105': 31, '92530': 211, '37000': 243, '97355': 62, '96100': 183, '74925': 8336, '75465': 1469, '84190': 114, '37040': 44, '85110': 12, '84320': 88, '87190': 33, '81205': 34, '87350': 3, '85600': 199, '84900': 3, '38040': 5097, '96925': 12, '73240': 155, '93960': 1005, '87330': 1167, '84145': 83, '92225': 15, '74230': 126, '97390': 90, '84100': 6832, '87110': 450, '84105': 172, '38000': 975, '77930': 7721, '85510': 0, '83530': 48, '84160': 22}, '1909': {'79630': 553, '84990': 15308, '75150': 5, '96930': 13, '74140': 4, '83520': 9, '97310': 20, '37040': 1646, '97160': 5, '84980': 25, '84900': 5, '74400': 116, '87330': 185, '84100': 62068, '77440': 21, '83530': 47, '74490': 5207, '90200': 315, '96910': 8, '98500': 58501, '84910': 119, '74241': 0, '16310': 398, '94330': 159, '84975': 3053, '92530': 49, '85320': 4, '74920': 4, '74925': 20100, '36040': 1510, '75520': 68, '87310': 10, '74500': 288, '92130': 2, '74230': 853, '87120': 8, '74130': 0, '77930': 9921, '74990': 14576, '92290': 65, '92510': 25, '74100': 911, '03510': 308, '74220': 1002, '97355': 7309, '96100': 1671, '84340': 15, '84190': 348, '36020': 4176, '85110': 10461, '87370': 436, '98430': 0, '85600': 454, '98000': 35, '74290': 11, '75465': 6684, '81205': 685, '84150': 272, '85590': 10, '84105': 1385, '99930': 2, '85510': 302, '95620': 21, '87260': 45, '90100': 955, '74470': 1723, '74570': 32, '83410': 12, '36000': 29938, '87105': 119, '98320': 396, '74000': 20, '84175': 4, '83465': 2, '84170': 44, '84320': 56, '95690': 5, '98555': 38, '87350': 13, '84390': 5869, '93960': 2715, '87110': 6417, '98330': 2, '84165': 85, '84162': 8, '84160': 338}, '1869': {'37030': 2, '83320': 2, '84190': 1, '87105': 7, '99930': 15, '74925': 1, '75145': 5, '74100': 2, '16310': 1, '37040': 1, '93960': 4}}\n"
       ]
      }
     ],
     "prompt_number": 28
    },
    {
     "cell_type": "heading",
     "level": 1,
     "metadata": {},
     "source": [
      "Plot the evolution of modern occupations"
     ]
    },
    {
     "cell_type": "code",
     "collapsed": false,
     "input": [
      "agg = {}\n",
      "for (year, data) in observations.iteritems():\n",
      "    for (code, count) in data.iteritems():\n",
      "        agg.setdefault(year, 0)\n",
      "        agg[year] += count\n",
      "print agg"
     ],
     "language": "python",
     "metadata": {},
     "outputs": [
      {
       "output_type": "stream",
       "stream": "stdout",
       "text": [
        "{'1859': 27049, '1849': 101094, '1920': 169968, '1930': 11785, '1899': 114024, '1889': 89422, '1909': 280607, '1869': 41}\n"
       ]
      }
     ],
     "prompt_number": 30
    },
    {
     "cell_type": "code",
     "collapsed": false,
     "input": [
      "data_years = []\n",
      "data_counts = []\n",
      "for year in sorted(agg.keys()):\n",
      "    data_years.append(year)\n",
      "    data_counts.append(agg[year])\n",
      "    print year, agg[year]"
     ],
     "language": "python",
     "metadata": {},
     "outputs": [
      {
       "output_type": "stream",
       "stream": "stdout",
       "text": [
        "1849 101094\n",
        "1859 27049\n",
        "1869 41\n",
        "1889 89422\n",
        "1899 114024\n",
        "1909 280607\n",
        "1920 169968\n",
        "1930 11785\n"
       ]
      }
     ],
     "prompt_number": 35
    },
    {
     "cell_type": "code",
     "collapsed": false,
     "input": [
      "plt.plot(data_years, data_counts, alpha=0.5)\n",
      "plt.scatter(data_years, data_counts, alpha=0.5)\n",
      "plt.show()"
     ],
     "language": "python",
     "metadata": {},
     "outputs": [
      {
       "metadata": {},
       "output_type": "display_data",
       "png": "[encoded data removed]",
       "text": [
        "<matplotlib.figure.Figure at 0x312ff10>"
       ]
      }
     ],
     "prompt_number": 34
    },
    {
     "cell_type": "heading",
     "level": 1,
     "metadata": {},
     "source": [
      "Look at an occupation in particular"
     ]
    },
    {
     "cell_type": "code",
     "collapsed": false,
     "input": [
      "data_years = []\n",
      "data_counts = []\n",
      "for year in sorted(observations.keys()):\n",
      "    data = observations[year]\n",
      "    total = 0\n",
      "    for (code, count) in data.iteritems():\n",
      "        if code.startswith('21110'):\n",
      "            total += count\n",
      "    data_years.append(year)\n",
      "    data_counts.append(total)\n",
      "    print year, total\n",
      "plt.plot(data_years, data_counts, alpha=0.5)\n",
      "plt.scatter(data_years, data_counts, alpha=0.5)\n",
      "plt.show()"
     ],
     "language": "python",
     "metadata": {},
     "outputs": [
      {
       "output_type": "stream",
       "stream": "stdout",
       "text": [
        "1849 0\n",
        "1859 0\n",
        "1869 0\n",
        "1889 0\n",
        "1899 0\n",
        "1909 0\n",
        "1920 0\n",
        "1930 0\n"
       ]
      },
      {
       "metadata": {},
       "output_type": "display_data",
       "png": "[encoded data removed]",
       "text": [
        "<matplotlib.figure.Figure at 0x415b2d0>"
       ]
      }
     ],
     "prompt_number": 43
    },
    {
     "cell_type": "code",
     "collapsed": false,
     "input": [],
     "language": "python",
     "metadata": {},
     "outputs": []
    }
   ],
   "metadata": {}
  }
 ]
}